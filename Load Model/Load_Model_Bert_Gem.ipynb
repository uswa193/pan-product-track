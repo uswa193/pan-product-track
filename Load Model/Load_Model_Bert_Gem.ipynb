{
  "nbformat": 4,
  "nbformat_minor": 0,
  "metadata": {
    "colab": {
      "provenance": [],
      "gpuType": "T4"
    },
    "kernelspec": {
      "name": "python3",
      "display_name": "Python 3"
    },
    "language_info": {
      "name": "python"
    },
    "accelerator": "GPU"
  },
  "cells": [
    {
      "cell_type": "markdown",
      "source": [
        "#HealChat"
      ],
      "metadata": {
        "id": "2U4jUCNYxPEW"
      }
    },
    {
      "cell_type": "code",
      "execution_count": 1,
      "metadata": {
        "id": "0uPyuuhMFEPH"
      },
      "outputs": [],
      "source": [
        "import numpy as np\n",
        "import tensorflow as tf\n",
        "from tensorflow.keras.models import load_model\n",
        "from tensorflow.keras.preprocessing.sequence import pad_sequences\n",
        "from tensorflow.keras.preprocessing.text import tokenizer_from_json\n",
        "import json\n",
        "from sklearn.preprocessing import LabelEncoder\n",
        "from google.colab import drive"
      ]
    },
    {
      "cell_type": "code",
      "source": [
        "#Load model\n",
        "drive.mount('/content/drive')"
      ],
      "metadata": {
        "colab": {
          "base_uri": "https://localhost:8080/"
        },
        "id": "LaNaWzAQaSax",
        "outputId": "d4d6138a-ce04-4126-ccff-9265983359ad"
      },
      "execution_count": 2,
      "outputs": [
        {
          "output_type": "stream",
          "name": "stdout",
          "text": [
            "Mounted at /content/drive\n"
          ]
        }
      ]
    },
    {
      "cell_type": "code",
      "source": [
        "# Muat model dan tokenizer dari Google Drive\n",
        "model_path = '/content/drive/My Drive/Github/Fix_Github/Emotion Classification/model'\n",
        "tokenizer_path = '/content/drive/My Drive/Github/Fix_Github/Emotion Classification/tokenizer'\n",
        "\n",
        "from transformers import pipeline\n",
        "\n",
        "# Gunakan model dan tokenizer yang dimuat dari Google Drive\n",
        "nlp = pipeline(\n",
        "    \"sentiment-analysis\",\n",
        "    model=model_path,\n",
        "    tokenizer=tokenizer_path,\n",
        "    return_all_scores=True\n",
        ")"
      ],
      "metadata": {
        "colab": {
          "base_uri": "https://localhost:8080/"
        },
        "id": "OI34-NKkTDTl",
        "outputId": "558de0ae-e7a6-4af5-f67f-f018ea1ff823"
      },
      "execution_count": 3,
      "outputs": [
        {
          "output_type": "stream",
          "name": "stderr",
          "text": [
            "Some layers from the model checkpoint at /content/drive/My Drive/Github/Fix_Github/Emotion Classification/model were not used when initializing TFBertForSequenceClassification: ['dropout_75']\n",
            "- This IS expected if you are initializing TFBertForSequenceClassification from the checkpoint of a model trained on another task or with another architecture (e.g. initializing a BertForSequenceClassification model from a BertForPreTraining model).\n",
            "- This IS NOT expected if you are initializing TFBertForSequenceClassification from the checkpoint of a model that you expect to be exactly identical (initializing a BertForSequenceClassification model from a BertForSequenceClassification model).\n",
            "All the layers of TFBertForSequenceClassification were initialized from the model checkpoint at /content/drive/My Drive/Github/Fix_Github/Emotion Classification/model.\n",
            "If your task is similar to the task the model of the checkpoint was trained on, you can already use TFBertForSequenceClassification for predictions without further training.\n",
            "/usr/local/lib/python3.10/dist-packages/transformers/pipelines/text_classification.py:104: UserWarning: `return_all_scores` is now deprecated,  if want a similar functionality use `top_k=None` instead of `return_all_scores=True` or `top_k=1` instead of `return_all_scores=False`.\n",
            "  warnings.warn(\n"
          ]
        }
      ]
    },
    {
      "cell_type": "code",
      "source": [
        "label_mapping = {'Marah': 'marah', 'Takut': 'takut', 'Senang': 'senang', 'Cinta': 'cinta', 'Sedih': 'sedih'}"
      ],
      "metadata": {
        "id": "zD_h4kT9Tlt9"
      },
      "execution_count": 4,
      "outputs": []
    },
    {
      "cell_type": "code",
      "source": [
        "#run to clear out history\n",
        "history = []"
      ],
      "metadata": {
        "id": "NQeORk4BYp4N"
      },
      "execution_count": 5,
      "outputs": []
    },
    {
      "cell_type": "code",
      "source": [
        "# Fungsi untuk menyimpan probabilitas label\n",
        "def predict_text_probabilities(hasil_nlp,text):\n",
        "    mapped_probabilities = {}\n",
        "    for item in hasil_nlp[0]:  # Assuming we only need the first set of predictions\n",
        "        label = item['label']\n",
        "        score = item['score']\n",
        "        mapped_probabilities[label_mapping[label]] = score\n",
        "\n",
        "    return mapped_probabilities"
      ],
      "metadata": {
        "id": "v0MElE92FjYY"
      },
      "execution_count": 6,
      "outputs": []
    },
    {
      "cell_type": "code",
      "source": [
        "def join_list(list1):\n",
        "  kalimat = \" \".join(list1)\n",
        "  return kalimat"
      ],
      "metadata": {
        "id": "sGIRUoCwvJkt"
      },
      "execution_count": 7,
      "outputs": []
    },
    {
      "cell_type": "markdown",
      "source": [
        "Integrating with Gemini"
      ],
      "metadata": {
        "id": "qWgIxVsieq3E"
      }
    },
    {
      "cell_type": "code",
      "source": [
        "!pip install -q -U google-generativeai"
      ],
      "metadata": {
        "id": "Gm6osyzceuzj",
        "colab": {
          "base_uri": "https://localhost:8080/"
        },
        "outputId": "b6419762-edc7-482c-920c-1b77f9847fa6"
      },
      "execution_count": 8,
      "outputs": [
        {
          "output_type": "stream",
          "name": "stdout",
          "text": [
            "\u001b[?25l     \u001b[90m━━━━━━━━━━━━━━━━━━━━━━━━━━━━━━━━━━━━━━━━\u001b[0m \u001b[32m0.0/158.8 kB\u001b[0m \u001b[31m?\u001b[0m eta \u001b[36m-:--:--\u001b[0m\r\u001b[2K     \u001b[91m━━━━━━━━━━━━━━━━━━━━━━━━━━━━━━\u001b[0m\u001b[91m╸\u001b[0m\u001b[90m━━━━━━━━━\u001b[0m \u001b[32m122.9/158.8 kB\u001b[0m \u001b[31m3.6 MB/s\u001b[0m eta \u001b[36m0:00:01\u001b[0m\r\u001b[2K     \u001b[90m━━━━━━━━━━━━━━━━━━━━━━━━━━━━━━━━━━━━━━━━\u001b[0m \u001b[32m158.8/158.8 kB\u001b[0m \u001b[31m3.2 MB/s\u001b[0m eta \u001b[36m0:00:00\u001b[0m\n",
            "\u001b[?25h"
          ]
        }
      ]
    },
    {
      "cell_type": "code",
      "source": [
        "import pathlib\n",
        "import textwrap\n",
        "\n",
        "import google.generativeai as genai\n",
        "\n",
        "from IPython.display import display\n",
        "from IPython.display import Markdown\n",
        "\n",
        "\n",
        "def to_markdown(text):\n",
        "  text = text.replace('•', '  *')\n",
        "  return Markdown(textwrap.indent(text, '> ', predicate=lambda _: True))"
      ],
      "metadata": {
        "id": "P26cvt1Ej9z4"
      },
      "execution_count": 9,
      "outputs": []
    },
    {
      "cell_type": "code",
      "source": [
        "# Used to securely store your API key\n",
        "from google.colab import userdata"
      ],
      "metadata": {
        "id": "GHTSZ4t-j_cm"
      },
      "execution_count": 10,
      "outputs": []
    },
    {
      "cell_type": "code",
      "source": [
        "GOOGLE_API_KEY=userdata.get('GOOGLE_API_KEY')\n",
        "\n",
        "genai.configure(api_key=GOOGLE_API_KEY)"
      ],
      "metadata": {
        "id": "VGMI3f0TkAgW"
      },
      "execution_count": 11,
      "outputs": []
    },
    {
      "cell_type": "code",
      "source": [
        "model_gemini = genai.GenerativeModel('gemini-1.5-pro')"
      ],
      "metadata": {
        "id": "g2TyTuk9kBn_"
      },
      "execution_count": 12,
      "outputs": []
    },
    {
      "cell_type": "markdown",
      "source": [
        "Integrating Emotion Classification & Gemini"
      ],
      "metadata": {
        "id": "-U4B4QLDkF_i"
      }
    },
    {
      "cell_type": "code",
      "source": [
        "#Run to predict user input\n",
        "text = input('Ceritakan Harimu:')\n",
        "history.append(text)"
      ],
      "metadata": {
        "colab": {
          "base_uri": "https://localhost:8080/"
        },
        "id": "y40kgr70kwRA",
        "outputId": "a01b9800-2789-46be-ff83-b0670b11064f"
      },
      "execution_count": 17,
      "outputs": [
        {
          "name": "stdout",
          "output_type": "stream",
          "text": [
            "Ceritakan Harimu:kucing aku kecelakaan\n"
          ]
        }
      ]
    },
    {
      "cell_type": "code",
      "source": [
        "#Run to generate response\n",
        "prompt = \"\" #input specific prompt\n",
        "response = model_gemini.generate_content(f\"Anggap dia temanmu yang sedang bercerita. Dia bercerita/membalas kalau {text}. Respon dia sebagai teman. Jangan gunakan bahasa yang terlalu kaku dan jangan terlalu panjang. List berikut adalah chat dia dengan mu {history}\")\n",
        "to_markdown(response.text)"
      ],
      "metadata": {
        "colab": {
          "base_uri": "https://localhost:8080/",
          "height": 62
        },
        "id": "yOV4rVENkXyJ",
        "outputId": "25cdbf63-3422-4054-a2ca-5bdffd2fb046"
      },
      "execution_count": 18,
      "outputs": [
        {
          "output_type": "execute_result",
          "data": {
            "text/plain": [
              "<IPython.core.display.Markdown object>"
            ],
            "text/markdown": "> Eh kok nangis? 😭 Kenapa kucingmu? Ya ampun, yang tababar ya. Sekarang keadaannya gimana?  🥺\n"
          },
          "metadata": {},
          "execution_count": 18
        }
      ]
    },
    {
      "cell_type": "code",
      "source": [
        "history"
      ],
      "metadata": {
        "colab": {
          "base_uri": "https://localhost:8080/"
        },
        "id": "dTkDfh6dvwfr",
        "outputId": "fbc5d094-a9f3-4570-873e-b90762ecf109"
      },
      "execution_count": 19,
      "outputs": [
        {
          "output_type": "execute_result",
          "data": {
            "text/plain": [
              "['hi', 'aku nangis banget', 'kucing aku kecelakaan']"
            ]
          },
          "metadata": {},
          "execution_count": 19
        }
      ]
    },
    {
      "cell_type": "code",
      "source": [
        "join_list(history)"
      ],
      "metadata": {
        "colab": {
          "base_uri": "https://localhost:8080/",
          "height": 35
        },
        "id": "0i8LlE4RyIs4",
        "outputId": "21437d86-06d3-46be-abcb-5e229defddd9"
      },
      "execution_count": 20,
      "outputs": [
        {
          "output_type": "execute_result",
          "data": {
            "text/plain": [
              "'hi aku nangis banget kucing aku kecelakaan'"
            ],
            "application/vnd.google.colaboratory.intrinsic+json": {
              "type": "string"
            }
          },
          "metadata": {},
          "execution_count": 20
        }
      ]
    },
    {
      "cell_type": "markdown",
      "source": [
        "#Check"
      ],
      "metadata": {
        "id": "orf3JIi4x5b1"
      }
    },
    {
      "cell_type": "code",
      "source": [
        "text = join_list(history)\n",
        "probabilities = predict_text_probabilities(nlp(text),text)\n",
        "for label, prob in probabilities.items():\n",
        "    print(f\"{label}: {prob:.4f}\")\n",
        "\n",
        "max_emotion = max(probabilities, key=probabilities.get)\n",
        "max_emotion_prob = probabilities[max_emotion]\n",
        "print(f\"\\nEmosi pengguna: {max_emotion} ({max_emotion_prob:.4f})\")"
      ],
      "metadata": {
        "colab": {
          "base_uri": "https://localhost:8080/"
        },
        "id": "q9zT4MqWqUAx",
        "outputId": "ece24197-4f70-499a-cd48-86df1274b4da"
      },
      "execution_count": 21,
      "outputs": [
        {
          "output_type": "stream",
          "name": "stdout",
          "text": [
            "marah: 0.0130\n",
            "takut: 0.0451\n",
            "senang: 0.0114\n",
            "cinta: 0.0157\n",
            "sedih: 0.9148\n",
            "\n",
            "Emosi pengguna: sedih (0.9148)\n"
          ]
        }
      ]
    },
    {
      "cell_type": "markdown",
      "source": [
        "**Activity A**"
      ],
      "metadata": {
        "id": "OlSdaLb4sXdQ"
      }
    },
    {
      "cell_type": "code",
      "source": [
        "#Run to generate response\n",
        "prompt = \"\" #input specific prompt\n",
        "response = model_gemini.generate_content(f\"User kita sedang dalam keadaan {max_emotion} dengan probabilisitas {max_emotion_prob}.  Berikan 1 rekomendasi aktivitas untuknya tanpa kata kata penyemangat output hanya 1 aktivitas saja\")\n",
        "to_markdown(response.text)"
      ],
      "metadata": {
        "colab": {
          "base_uri": "https://localhost:8080/",
          "height": 62
        },
        "id": "oLwShEmfqeou",
        "outputId": "927f8549-ee81-4048-e2c0-c01c94c747f8"
      },
      "execution_count": 22,
      "outputs": [
        {
          "output_type": "execute_result",
          "data": {
            "text/plain": [
              "<IPython.core.display.Markdown object>"
            ],
            "text/markdown": "> Mendengarkan musik instrumental yang menenangkan. \n"
          },
          "metadata": {},
          "execution_count": 22
        }
      ]
    },
    {
      "cell_type": "markdown",
      "source": [
        "**Activity B**\n",
        "\n"
      ],
      "metadata": {
        "id": "nxcBk0bBsLiR"
      }
    },
    {
      "cell_type": "code",
      "source": [
        "import random\n",
        "import json"
      ],
      "metadata": {
        "id": "C-USnsUltLIV"
      },
      "execution_count": 23,
      "outputs": []
    },
    {
      "cell_type": "code",
      "source": [
        "recommended_activities = {\n",
        "    \"sedih\": [\n",
        "        {\"title\": \"Olahraga\", \"description\": \"Pergi berjalan, berlari, atau lakukan latihan di rumah.\"},\n",
        "        {\"title\": \"Mendengarkan Musik\", \"description\": \"Dengarkan musik yang membangkitkan semangat atau menenangkan.\"},\n",
        "        {\"title\": \"Bicara dengan Seseorang\", \"description\": \"Bagikan perasaan Anda dengan teman atau anggota keluarga.\"},\n",
        "        {\"title\": \"Terlibat dalam Hobi\", \"description\": \"Lakukan sesuatu yang Anda nikmati, seperti membaca, melukis, atau berkebun.\"},\n",
        "        {\"title\": \"Menulis di Jurnal\", \"description\": \"Ungkapkan pikiran dan perasaan Anda di atas kertas.\"}\n",
        "    ],\n",
        "    \"senang\": [\n",
        "        {\"title\": \"Merayakan\", \"description\": \"Bagikan kebahagiaan Anda dengan teman dan keluarga.\"},\n",
        "        {\"title\": \"Olahraga\", \"description\": \"Salurkan energi positif Anda ke dalam aktivitas fisik.\"},\n",
        "        {\"title\": \"Berkegiatan Sosial\", \"description\": \"Gunakan suasana hati positif Anda untuk membantu orang lain.\"},\n",
        "        {\"title\": \"Buat Sesuatu\", \"description\": \"Salurkan kebahagiaan Anda ke dalam aktivitas kreatif seperti menggambar, memasak, atau membuat kerajinan.\"},\n",
        "        {\"title\": \"Menghabiskan Waktu di Luar Ruangan\", \"description\": \"Nikmati berjalan di alam, pergi ke pantai, atau berpiknik.\"}\n",
        "    ],\n",
        "    \"takut\": [\n",
        "        {\"title\": \"Latihan Pernapasan Dalam\", \"description\": \"Lakukan latihan pernapasan dalam untuk menenangkan pikiran Anda.\"},\n",
        "        {\"title\": \"Meditasi Kesadaran\", \"description\": \"Fokus pada momen saat ini untuk mengurangi kecemasan.\"},\n",
        "        {\"title\": \"Hadapi Ketakutan Anda\", \"description\": \"Secara bertahap hadapi sumber ketakutan Anda dalam langkah-langkah kecil yang dapat diatasi.\"},\n",
        "        {\"title\": \"Bicarakan\", \"description\": \"Diskusikan ketakutan Anda dengan teman terpercaya atau terapis.\"},\n",
        "        {\"title\": \"Aktivitas Fisik\", \"description\": \"Lakukan aktivitas seperti yoga, tai chi, atau berjalan cepat untuk mengurangi stres.\"}\n",
        "    ],\n",
        "    \"cinta\": [\n",
        "        {\"title\": \"Menghabiskan Waktu Berkualitas\", \"description\": \"Rencanakan kencan atau aktivitas spesial dengan orang yang Anda cintai.\"},\n",
        "        {\"title\": \"Ekspresikan Rasa Syukur\", \"description\": \"Tulis surat atau catatan untuk mengungkapkan penghargaan.\"},\n",
        "        {\"title\": \"Lakukan Sesuatu yang Baik\", \"description\": \"Lakukan tindakan kebaikan untuk seseorang yang Anda pedulikan.\"},\n",
        "        {\"title\": \"Masak Bersama\", \"description\": \"Nikmati memasak dan berbagi makanan bersama orang tercinta.\"},\n",
        "        {\"title\": \"Terlibat dalam Kegiatan Bersama\", \"description\": \"Ikuti hobi atau aktivitas yang Anda berdua nikmati.\"}\n",
        "    ],\n",
        "    \"marah\": [\n",
        "        {\"title\": \"Aktivitas Fisik\", \"description\": \"Lepaskan energi terpendam melalui olahraga atau permainan.\"},\n",
        "        {\"title\": \"Pernapasan Dalam\", \"description\": \"Lakukan latihan pernapasan dalam atau relaksasi otot progresif.\"},\n",
        "        {\"title\": \"Saluran Kreatif\", \"description\": \"Salurkan kemarahan Anda ke dalam seni, musik, atau menulis.\"},\n",
        "        {\"title\": \"Waktu Sendiri\", \"description\": \"Ambil jeda dari situasi untuk menenangkan diri.\"},\n",
        "        {\"title\": \"Bicarakan\", \"description\": \"Diskusikan perasaan Anda dengan seseorang yang Anda percaya untuk mendapatkan perspektif.\"}\n",
        "    ]\n",
        "}\n",
        "\n",
        "# Save the dictionary to a JSON file\n",
        "with open('/content/recommended_activities.json', 'w') as json_file:\n",
        "    json.dump(recommended_activities, json_file, indent=4)"
      ],
      "metadata": {
        "id": "vWyE4_vOr6mR"
      },
      "execution_count": 24,
      "outputs": []
    },
    {
      "cell_type": "code",
      "source": [
        "# Load the JSON file\n",
        "with open('/content/recommended_activities.json', 'r') as json_file:\n",
        "    recommended_activities = json.load(json_file)"
      ],
      "metadata": {
        "id": "Ow2KlR65u8T_"
      },
      "execution_count": 25,
      "outputs": []
    },
    {
      "cell_type": "code",
      "source": [
        "if max_emotion in recommended_activities:\n",
        "    selected_activities = random.sample(recommended_activities[max_emotion], 3)\n",
        "    num = 1\n",
        "    # Format selected activities in Markdown\n",
        "    print(f\"Recommendations for {max_emotion}:\\n\")\n",
        "    for activity in selected_activities:\n",
        "\n",
        "      print(f\"{num}. {activity['title']}\\n{activity['description']}\\n\")\n",
        "      num += 1\n",
        "else:\n",
        "    print(\"No recommendations available for the given emotion.\")"
      ],
      "metadata": {
        "colab": {
          "base_uri": "https://localhost:8080/"
        },
        "id": "BbH3370Au9Or",
        "outputId": "c0e74088-0d1c-45d5-825b-bd3a545e6c20"
      },
      "execution_count": 26,
      "outputs": [
        {
          "output_type": "stream",
          "name": "stdout",
          "text": [
            "Recommendations for sedih:\n",
            "\n",
            "1. Menulis di Jurnal\n",
            "Ungkapkan pikiran dan perasaan Anda di atas kertas.\n",
            "\n",
            "2. Terlibat dalam Hobi\n",
            "Lakukan sesuatu yang Anda nikmati, seperti membaca, melukis, atau berkebun.\n",
            "\n",
            "3. Mendengarkan Musik\n",
            "Dengarkan musik yang membangkitkan semangat atau menenangkan.\n",
            "\n"
          ]
        }
      ]
    }
  ]
}